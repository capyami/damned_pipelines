{
 "cells": [
  {
   "cell_type": "code",
   "execution_count": 1,
   "id": "9e60e8b9",
   "metadata": {},
   "outputs": [
    {
     "data": {
      "text/plain": [
       "True"
      ]
     },
     "execution_count": 1,
     "metadata": {},
     "output_type": "execute_result"
    }
   ],
   "source": [
    "def sp_eng(sentence):\n",
    "  x = str.casefold('english')\n",
    "  \n",
    "  if x in sentence.casefold():\n",
    "    return True\n",
    "  else:\n",
    "    return False\n",
    "\n",
    "sp_eng('hgggccjh gvgvgenglish')"
   ]
  }
 ],
 "metadata": {
  "kernelspec": {
   "display_name": "Python [conda env:m1_env]",
   "language": "python",
   "name": "conda-env-m1_env-py"
  },
  "language_info": {
   "codemirror_mode": {
    "name": "ipython",
    "version": 3
   },
   "file_extension": ".py",
   "mimetype": "text/x-python",
   "name": "python",
   "nbconvert_exporter": "python",
   "pygments_lexer": "ipython3",
   "version": "3.9.16"
  }
 },
 "nbformat": 4,
 "nbformat_minor": 5
}
