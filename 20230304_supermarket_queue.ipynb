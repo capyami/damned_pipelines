{
 "cells": [
  {
   "cell_type": "markdown",
   "id": "d623bfc0",
   "metadata": {},
   "source": [
    "# Pseudo code\n",
    "\n",
    "---"
   ]
  },
  {
   "cell_type": "code",
   "execution_count": null,
   "id": "5d6261ef",
   "metadata": {},
   "outputs": [],
   "source": [
    "# Step 1. Create a data structure that simulates the initial scenario (empty tills) \n",
    "\n",
    "# Step 2. Sorting the tills will give you the one with least waiting time at the zero position (first till)\n",
    "\n",
    "# Step 3. Add the time of every customer in the queue to the first till\n",
    "\n",
    "# Step 4. Return the maximum time from the final tills array"
   ]
  },
  {
   "cell_type": "markdown",
   "id": "bf18bb18",
   "metadata": {},
   "source": [
    "---\n",
    "\n",
    "# Implementation\n",
    "\n",
    "---"
   ]
  },
  {
   "cell_type": "code",
   "execution_count": 8,
   "id": "ff9ce1ff",
   "metadata": {},
   "outputs": [],
   "source": [
    "n = 2\n",
    "customers = [2,2,3,3,4,4]"
   ]
  },
  {
   "cell_type": "code",
   "execution_count": 9,
   "id": "9e82ef24",
   "metadata": {},
   "outputs": [
    {
     "data": {
      "text/plain": [
       "[0, 0]"
      ]
     },
     "execution_count": 9,
     "metadata": {},
     "output_type": "execute_result"
    }
   ],
   "source": [
    "queue = [0] * n\n",
    "queue"
   ]
  },
  {
   "cell_type": "code",
   "execution_count": 10,
   "id": "78c84a08",
   "metadata": {
    "scrolled": false
   },
   "outputs": [
    {
     "name": "stdout",
     "output_type": "stream",
     "text": [
      "[0, 0]\n",
      "2\n",
      "[2, 0]\n",
      "2\n",
      "-------\n",
      "[0, 2]\n",
      "2\n",
      "[2, 2]\n",
      "2\n",
      "-------\n",
      "[2, 2]\n",
      "5\n",
      "[5, 2]\n",
      "5\n",
      "-------\n",
      "[2, 5]\n",
      "5\n",
      "[5, 5]\n",
      "5\n",
      "-------\n",
      "[5, 5]\n",
      "9\n",
      "[9, 5]\n",
      "9\n",
      "-------\n",
      "[5, 9]\n",
      "9\n",
      "[9, 9]\n",
      "9\n",
      "-------\n"
     ]
    }
   ],
   "source": [
    "queue = [0 for i in range(n)]\n",
    "for c in customers:\n",
    "    queue = sorted(queue)\n",
    "    print(queue)\n",
    "    queue[0] += c\n",
    "    print(queue[0])\n",
    "    print(queue)\n",
    "    print(max(queue))\n",
    "    print('-------')"
   ]
  },
  {
   "cell_type": "markdown",
   "id": "7c9d6494",
   "metadata": {},
   "source": [
    "---"
   ]
  },
  {
   "cell_type": "code",
   "execution_count": null,
   "id": "784c3664",
   "metadata": {},
   "outputs": [],
   "source": [
    "def queue_time(customers, n):\n",
    "    queue = [0] * n\n",
    "    for c in customers:\n",
    "        queue = sorted(queue)\n",
    "        queue[0] += c\n",
    "    return max(queue)"
   ]
  },
  {
   "cell_type": "code",
   "execution_count": null,
   "id": "c2908373",
   "metadata": {},
   "outputs": [],
   "source": [
    "queue_time([2,2,3,3,4,4], 2) # Should return 9"
   ]
  },
  {
   "cell_type": "markdown",
   "id": "bb9f7b8b",
   "metadata": {},
   "source": [
    "---"
   ]
  },
  {
   "cell_type": "code",
   "execution_count": 11,
   "id": "329b4f3f",
   "metadata": {},
   "outputs": [],
   "source": [
    "class MarketQueue():\n",
    "    \n",
    "    def __init__(self,customers,n):\n",
    "        self.customers = customers\n",
    "        self.n=n\n",
    "        self.timer = 0\n",
    "        self.active_checkouts = []\n",
    "        \n",
    "    def calculate_total_time(self):\n",
    "        while self.customers:\n",
    "            self.process_queue()   \n",
    "        return self.timer\n",
    "\n",
    "    def process_queue(self):\n",
    "        if len(self.active_checkouts) < self.n:\n",
    "            queue_index = self.n - len(self.active_checkouts)\n",
    "            self.active_checkouts.extend(self.customers[:queue_index])\n",
    "            self.customers[:queue_index] = []\n",
    "        while self.active_checkouts and (len(self.active_checkouts) == self.n or not self.customers) :\n",
    "            self.timer += 1\n",
    "            self.process_active_checkouts()\n",
    "    \n",
    "    def process_active_checkouts(self):\n",
    "        finished_customers = []\n",
    "        for index,customer in enumerate(self.active_checkouts):\n",
    "            if customer > 1:\n",
    "                self.active_checkouts[index] = int(customer-1)\n",
    "            else:\n",
    "                finished_customers.append(customer)\n",
    "        \n",
    "        for finished in finished_customers:\n",
    "            self.active_checkouts.remove(finished)"
   ]
  },
  {
   "cell_type": "code",
   "execution_count": 12,
   "id": "a7e147ba",
   "metadata": {},
   "outputs": [],
   "source": [
    "# implementing requirements\n",
    "def queue_time(customers,n):\n",
    "    return MarketQueue(customers,n).calculate_total_time()"
   ]
  },
  {
   "cell_type": "code",
   "execution_count": 14,
   "id": "6e2f026c",
   "metadata": {},
   "outputs": [
    {
     "data": {
      "text/plain": [
       "__main__.MarketQueue"
      ]
     },
     "execution_count": 14,
     "metadata": {},
     "output_type": "execute_result"
    }
   ],
   "source": [
    "type(MarketQueue([2,2,3,3,4,4],2))"
   ]
  },
  {
   "cell_type": "code",
   "execution_count": 18,
   "id": "b6f79ba2",
   "metadata": {},
   "outputs": [
    {
     "data": {
      "text/plain": [
       "__main__.MarketQueue"
      ]
     },
     "execution_count": 18,
     "metadata": {},
     "output_type": "execute_result"
    }
   ],
   "source": [
    "kata = MarketQueue([2,2,3,3,4,4],2)\n",
    "type(kata)"
   ]
  },
  {
   "cell_type": "code",
   "execution_count": 19,
   "id": "b3315695",
   "metadata": {},
   "outputs": [
    {
     "data": {
      "text/plain": [
       "0"
      ]
     },
     "execution_count": 19,
     "metadata": {},
     "output_type": "execute_result"
    }
   ],
   "source": [
    "kata.timer"
   ]
  },
  {
   "cell_type": "code",
   "execution_count": 20,
   "id": "83f24e75",
   "metadata": {},
   "outputs": [
    {
     "name": "stdout",
     "output_type": "stream",
     "text": [
      "<class 'int'>\n"
     ]
    }
   ],
   "source": [
    "print(type(kata.calculate_total_time()))"
   ]
  },
  {
   "cell_type": "code",
   "execution_count": 13,
   "id": "822c26de",
   "metadata": {},
   "outputs": [
    {
     "data": {
      "text/plain": [
       "9"
      ]
     },
     "execution_count": 13,
     "metadata": {},
     "output_type": "execute_result"
    }
   ],
   "source": [
    "queue_time([2,2,3,3,4,4], 2)"
   ]
  },
  {
   "cell_type": "markdown",
   "id": "44a98f5e",
   "metadata": {},
   "source": [
    "---"
   ]
  }
 ],
 "metadata": {
  "kernelspec": {
   "display_name": "Python [conda env:m1_env]",
   "language": "python",
   "name": "conda-env-m1_env-py"
  },
  "language_info": {
   "codemirror_mode": {
    "name": "ipython",
    "version": 3
   },
   "file_extension": ".py",
   "mimetype": "text/x-python",
   "name": "python",
   "nbconvert_exporter": "python",
   "pygments_lexer": "ipython3",
   "version": "3.9.16"
  }
 },
 "nbformat": 4,
 "nbformat_minor": 5
}
