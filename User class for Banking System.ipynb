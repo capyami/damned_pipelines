{
 "cells": [
  {
   "cell_type": "code",
   "execution_count": null,
   "id": "8a8e0c26",
   "metadata": {},
   "outputs": [],
   "source": [
    "class User(object):\n",
    "\n",
    "    def __init__(self, name, balance, checking_account):\n",
    "        self.name = name\n",
    "        self.balance = int(balance)\n",
    "        self.checking_account = bool(checking_account)\n",
    "\n",
    "    def withdraw(self,amount):\n",
    "        if self.balance < amount:\n",
    "            raise ValueError(\"There isn't enough money to withdraw.\")\n",
    "        else:\n",
    "            self.balance = self.balance - amount\n",
    "            return f'{self.name} has {self.balance}.'\n",
    "\n",
    "    def check(self,other_user,money):\n",
    "        if other_user.balance < money:\n",
    "            raise ValueError(str(other_user.name) + \" doesn't have enough money.\")\n",
    "        elif other_user.checking_account != True:\n",
    "            raise ValueError(str(other_user.name) + \" doesn't have an account.\")\n",
    "        else:\n",
    "            self.balance = self.balance + money\n",
    "            other_user.balance =other_user.balance - money\n",
    "            return f'{self.name} has {self.balance} and {other_user.name} has {other_user.balance}.'\n",
    "\n",
    "    def add_cash(self,money):\n",
    "        self.balance = self.balance + money\n",
    "        return f'{self.name} has {self.balance}.'"
   ]
  },
  {
   "cell_type": "code",
   "execution_count": null,
   "id": "9cdf9e54",
   "metadata": {},
   "outputs": [],
   "source": []
  }
 ],
 "metadata": {
  "kernelspec": {
   "display_name": "Python [conda env:m1_env]",
   "language": "python",
   "name": "conda-env-m1_env-py"
  },
  "language_info": {
   "codemirror_mode": {
    "name": "ipython",
    "version": 3
   },
   "file_extension": ".py",
   "mimetype": "text/x-python",
   "name": "python",
   "nbconvert_exporter": "python",
   "pygments_lexer": "ipython3",
   "version": "3.9.16"
  }
 },
 "nbformat": 4,
 "nbformat_minor": 5
}
