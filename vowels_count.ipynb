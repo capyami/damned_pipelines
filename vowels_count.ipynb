{
 "cells": [
  {
   "cell_type": "code",
   "execution_count": null,
   "id": "e56d4e95",
   "metadata": {},
   "outputs": [],
   "source": [
    "def get_count(y):\n",
    "  count = 0\n",
    "  for x in y:\n",
    "    if x in 'aeiou':\n",
    "      count +=1\n",
    "  return count\n",
    "  \n",
    "get_count('iyguyfuhjhjo')"
   ]
  }
 ],
 "metadata": {
  "kernelspec": {
   "display_name": "Python [conda env:m1_env]",
   "language": "python",
   "name": "conda-env-m1_env-py"
  },
  "language_info": {
   "codemirror_mode": {
    "name": "ipython",
    "version": 3
   },
   "file_extension": ".py",
   "mimetype": "text/x-python",
   "name": "python",
   "nbconvert_exporter": "python",
   "pygments_lexer": "ipython3",
   "version": "3.9.16"
  }
 },
 "nbformat": 4,
 "nbformat_minor": 5
}
