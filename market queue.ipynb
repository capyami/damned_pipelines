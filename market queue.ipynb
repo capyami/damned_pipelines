{
 "cells": [
  {
   "cell_type": "code",
   "execution_count": null,
   "id": "b87c8540",
   "metadata": {},
   "outputs": [],
   "source": [
    "def queue_time(customers, n):\n",
    "    queue = [0] * n\n",
    "    for c in customers:\n",
    "        queue = sorted(queue)\n",
    "        queue[0] += c\n",
    "    return max(queue)"
   ]
  }
 ],
 "metadata": {
  "kernelspec": {
   "display_name": "Python [conda env:m1_env]",
   "language": "python",
   "name": "conda-env-m1_env-py"
  },
  "language_info": {
   "codemirror_mode": {
    "name": "ipython",
    "version": 3
   },
   "file_extension": ".py",
   "mimetype": "text/x-python",
   "name": "python",
   "nbconvert_exporter": "python",
   "pygments_lexer": "ipython3",
   "version": "3.9.16"
  }
 },
 "nbformat": 4,
 "nbformat_minor": 5
}
