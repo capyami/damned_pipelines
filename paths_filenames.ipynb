{
 "cells": [
  {
   "cell_type": "markdown",
   "id": "e1ddcb00",
   "metadata": {},
   "source": [
    "### Paths, directories and filenames"
   ]
  },
  {
   "cell_type": "code",
   "execution_count": 1,
   "id": "e220b784",
   "metadata": {},
   "outputs": [],
   "source": [
    "import os"
   ]
  },
  {
   "cell_type": "code",
   "execution_count": 31,
   "id": "6b713a5d",
   "metadata": {},
   "outputs": [],
   "source": [
    "# Absolute path vs relative path\n",
    "\n",
    "abs_path = 'C:/Users/Usuario/Documents/_ironhack/0223/dataptmad0223_challenges/katas'\n",
    "\n",
    "rel_path = '../dataptmad0223_lessons/m1'"
   ]
  },
  {
   "cell_type": "code",
   "execution_count": 32,
   "id": "f6db84dc",
   "metadata": {},
   "outputs": [
    {
     "data": {
      "text/plain": [
       "['.ipynb_checkpoints',\n",
       " '20230206_setup_onboarding.pdf',\n",
       " '20230208_setup_codewars_git_conda.pdf',\n",
       " '20230211_python_proper_coding.ipynb',\n",
       " '20230213_python_data_types_structures.ipynb',\n",
       " '20230215_python_string_operations.ipynb',\n",
       " '20230218_python_operators_control_flow.ipynb',\n",
       " '20230220_python_lists_comprehension.ipynb',\n",
       " 'docs']"
      ]
     },
     "execution_count": 32,
     "metadata": {},
     "output_type": "execute_result"
    }
   ],
   "source": [
    "# Get filenames\n",
    "\n",
    "filenames_list = os.listdir(rel_path)\n",
    "filenames_list"
   ]
  },
  {
   "cell_type": "code",
   "execution_count": 35,
   "id": "c6a1d904",
   "metadata": {},
   "outputs": [
    {
     "data": {
      "text/plain": [
       "['20230211_python_proper_coding.ipynb',\n",
       " '20230213_python_data_types_structures.ipynb',\n",
       " '20230215_python_string_operations.ipynb',\n",
       " '20230218_python_operators_control_flow.ipynb',\n",
       " '20230220_python_lists_comprehension.ipynb']"
      ]
     },
     "execution_count": 35,
     "metadata": {},
     "output_type": "execute_result"
    }
   ],
   "source": [
    "[lesson for lesson in filenames_list if lesson.endswith('.ipynb')]"
   ]
  },
  {
   "cell_type": "code",
   "execution_count": 36,
   "id": "965e2658",
   "metadata": {},
   "outputs": [
    {
     "data": {
      "text/plain": [
       "['20230211_python_proper_coding.ipynb',\n",
       " '20230213_python_data_types_structures.ipynb',\n",
       " '20230215_python_string_operations.ipynb',\n",
       " '20230218_python_operators_control_flow.ipynb',\n",
       " '20230220_python_lists_comprehension.ipynb']"
      ]
     },
     "execution_count": 36,
     "metadata": {},
     "output_type": "execute_result"
    }
   ],
   "source": [
    "new_list = []\n",
    "\n",
    "for lesson in filenames_list:\n",
    "    if lesson.endswith('.ipynb'):\n",
    "        new_list.append(lesson)\n",
    "        \n",
    "new_list"
   ]
  },
  {
   "cell_type": "markdown",
   "id": "382426f1",
   "metadata": {},
   "source": [
    "---"
   ]
  }
 ],
 "metadata": {
  "kernelspec": {
   "display_name": "Python [conda env:.conda-m1_env]",
   "language": "python",
   "name": "conda-env-.conda-m1_env-py"
  },
  "language_info": {
   "codemirror_mode": {
    "name": "ipython",
    "version": 3
   },
   "file_extension": ".py",
   "mimetype": "text/x-python",
   "name": "python",
   "nbconvert_exporter": "python",
   "pygments_lexer": "ipython3",
   "version": "3.9.16"
  }
 },
 "nbformat": 4,
 "nbformat_minor": 5
}
